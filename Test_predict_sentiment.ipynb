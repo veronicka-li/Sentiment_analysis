{
 "cells": [
  {
   "cell_type": "code",
   "execution_count": 1,
   "id": "senior-leader",
   "metadata": {},
   "outputs": [
    {
     "name": "stderr",
     "output_type": "stream",
     "text": [
      "[nltk_data] Downloading package stopwords to\n",
      "[nltk_data]     C:\\Users\\dom\\AppData\\Roaming\\nltk_data...\n",
      "[nltk_data]   Package stopwords is already up-to-date!\n"
     ]
    }
   ],
   "source": [
    "import pandas as pd\n",
    "import numpy as np\n",
    "import nltk\n",
    "nltk.download(\"stopwords\")\n",
    "from nltk.corpus import stopwords\n",
    "from nltk.tokenize import RegexpTokenizer\n",
    "from pymorphy2 import MorphAnalyzer\n",
    "import re\n",
    "from string import punctuation\n",
    "from sklearn.feature_extraction.text import CountVectorizer\n",
    "from wordcloud import WordCloud, ImageColorGenerator"
   ]
  },
  {
   "cell_type": "code",
   "execution_count": 2,
   "id": "proof-teach",
   "metadata": {},
   "outputs": [],
   "source": [
    "ds = pd.read_csv('reviews.csv', sep='\\t') #Загрузили датасет"
   ]
  },
  {
   "cell_type": "code",
   "execution_count": 3,
   "id": "scheduled-dealer",
   "metadata": {},
   "outputs": [
    {
     "data": {
      "text/html": [
       "<div>\n",
       "<style scoped>\n",
       "    .dataframe tbody tr th:only-of-type {\n",
       "        vertical-align: middle;\n",
       "    }\n",
       "\n",
       "    .dataframe tbody tr th {\n",
       "        vertical-align: top;\n",
       "    }\n",
       "\n",
       "    .dataframe thead th {\n",
       "        text-align: right;\n",
       "    }\n",
       "</style>\n",
       "<table border=\"1\" class=\"dataframe\">\n",
       "  <thead>\n",
       "    <tr style=\"text-align: right;\">\n",
       "      <th></th>\n",
       "      <th>review</th>\n",
       "      <th>sentiment</th>\n",
       "    </tr>\n",
       "  </thead>\n",
       "  <tbody>\n",
       "    <tr>\n",
       "      <th>0</th>\n",
       "      <td>качество плохое пошив ужасный (горловина напер...</td>\n",
       "      <td>negative</td>\n",
       "    </tr>\n",
       "    <tr>\n",
       "      <th>1</th>\n",
       "      <td>Товар отдали другому человеку, я не получила п...</td>\n",
       "      <td>negative</td>\n",
       "    </tr>\n",
       "    <tr>\n",
       "      <th>2</th>\n",
       "      <td>Ужасная синтетика! Тонкая, ничего общего с пре...</td>\n",
       "      <td>negative</td>\n",
       "    </tr>\n",
       "    <tr>\n",
       "      <th>3</th>\n",
       "      <td>товар не пришел, продавец продлил защиту без м...</td>\n",
       "      <td>negative</td>\n",
       "    </tr>\n",
       "    <tr>\n",
       "      <th>4</th>\n",
       "      <td>Кофточка голая синтетика, носить не возможно.</td>\n",
       "      <td>negative</td>\n",
       "    </tr>\n",
       "  </tbody>\n",
       "</table>\n",
       "</div>"
      ],
      "text/plain": [
       "                                              review sentiment\n",
       "0  качество плохое пошив ужасный (горловина напер...  negative\n",
       "1  Товар отдали другому человеку, я не получила п...  negative\n",
       "2  Ужасная синтетика! Тонкая, ничего общего с пре...  negative\n",
       "3  товар не пришел, продавец продлил защиту без м...  negative\n",
       "4      Кофточка голая синтетика, носить не возможно.  negative"
      ]
     },
     "execution_count": 3,
     "metadata": {},
     "output_type": "execute_result"
    }
   ],
   "source": [
    "ds.head()"
   ]
  },
  {
   "cell_type": "code",
   "execution_count": 4,
   "id": "humanitarian-alpha",
   "metadata": {},
   "outputs": [
    {
     "name": "stdout",
     "output_type": "stream",
     "text": [
      "<class 'pandas.core.frame.DataFrame'>\n",
      "RangeIndex: 90000 entries, 0 to 89999\n",
      "Data columns (total 2 columns):\n",
      " #   Column     Non-Null Count  Dtype \n",
      "---  ------     --------------  ----- \n",
      " 0   review     90000 non-null  object\n",
      " 1   sentiment  90000 non-null  object\n",
      "dtypes: object(2)\n",
      "memory usage: 1.4+ MB\n"
     ]
    }
   ],
   "source": [
    "ds.info() "
   ]
  },
  {
   "cell_type": "code",
   "execution_count": 5,
   "id": "exact-bidding",
   "metadata": {},
   "outputs": [
    {
     "data": {
      "text/html": [
       "<div>\n",
       "<style scoped>\n",
       "    .dataframe tbody tr th:only-of-type {\n",
       "        vertical-align: middle;\n",
       "    }\n",
       "\n",
       "    .dataframe tbody tr th {\n",
       "        vertical-align: top;\n",
       "    }\n",
       "\n",
       "    .dataframe thead th {\n",
       "        text-align: right;\n",
       "    }\n",
       "</style>\n",
       "<table border=\"1\" class=\"dataframe\">\n",
       "  <thead>\n",
       "    <tr style=\"text-align: right;\">\n",
       "      <th></th>\n",
       "      <th>review</th>\n",
       "      <th>sentiment</th>\n",
       "    </tr>\n",
       "  </thead>\n",
       "  <tbody>\n",
       "    <tr>\n",
       "      <th>count</th>\n",
       "      <td>90000</td>\n",
       "      <td>90000</td>\n",
       "    </tr>\n",
       "    <tr>\n",
       "      <th>unique</th>\n",
       "      <td>87321</td>\n",
       "      <td>3</td>\n",
       "    </tr>\n",
       "    <tr>\n",
       "      <th>top</th>\n",
       "      <td>Товар не пришёл</td>\n",
       "      <td>positive</td>\n",
       "    </tr>\n",
       "    <tr>\n",
       "      <th>freq</th>\n",
       "      <td>58</td>\n",
       "      <td>30000</td>\n",
       "    </tr>\n",
       "  </tbody>\n",
       "</table>\n",
       "</div>"
      ],
      "text/plain": [
       "                  review sentiment\n",
       "count              90000     90000\n",
       "unique             87321         3\n",
       "top     Товар не пришёл   positive\n",
       "freq                  58     30000"
      ]
     },
     "execution_count": 5,
     "metadata": {},
     "output_type": "execute_result"
    }
   ],
   "source": [
    "ds.describe()"
   ]
  },
  {
   "cell_type": "code",
   "execution_count": 6,
   "id": "boxed-mobility",
   "metadata": {},
   "outputs": [
    {
     "data": {
      "text/plain": [
       "2250"
      ]
     },
     "execution_count": 6,
     "metadata": {},
     "output_type": "execute_result"
    }
   ],
   "source": [
    "ds.duplicated().sum() #повторяются в работе столько-то рецензий"
   ]
  },
  {
   "cell_type": "code",
   "execution_count": 7,
   "id": "social-think",
   "metadata": {},
   "outputs": [],
   "source": [
    "#Удалим дубликаты и неуникальные значения. Дублирующиеся данные могут не вызывать ошибок, но отнимать много времени для получения результата.\n",
    "df = ds.drop_duplicates(subset=['review'])"
   ]
  },
  {
   "cell_type": "code",
   "execution_count": 8,
   "id": "headed-focus",
   "metadata": {},
   "outputs": [
    {
     "data": {
      "text/html": [
       "<div>\n",
       "<style scoped>\n",
       "    .dataframe tbody tr th:only-of-type {\n",
       "        vertical-align: middle;\n",
       "    }\n",
       "\n",
       "    .dataframe tbody tr th {\n",
       "        vertical-align: top;\n",
       "    }\n",
       "\n",
       "    .dataframe thead th {\n",
       "        text-align: right;\n",
       "    }\n",
       "</style>\n",
       "<table border=\"1\" class=\"dataframe\">\n",
       "  <thead>\n",
       "    <tr style=\"text-align: right;\">\n",
       "      <th></th>\n",
       "      <th>review</th>\n",
       "      <th>sentiment</th>\n",
       "    </tr>\n",
       "  </thead>\n",
       "  <tbody>\n",
       "    <tr>\n",
       "      <th>count</th>\n",
       "      <td>87321</td>\n",
       "      <td>87321</td>\n",
       "    </tr>\n",
       "    <tr>\n",
       "      <th>unique</th>\n",
       "      <td>87321</td>\n",
       "      <td>3</td>\n",
       "    </tr>\n",
       "    <tr>\n",
       "      <th>top</th>\n",
       "      <td>Ждала посылку 2 месяца в итоге получила с горе...</td>\n",
       "      <td>positive</td>\n",
       "    </tr>\n",
       "    <tr>\n",
       "      <th>freq</th>\n",
       "      <td>1</td>\n",
       "      <td>29291</td>\n",
       "    </tr>\n",
       "  </tbody>\n",
       "</table>\n",
       "</div>"
      ],
      "text/plain": [
       "                                                   review sentiment\n",
       "count                                               87321     87321\n",
       "unique                                              87321         3\n",
       "top     Ждала посылку 2 месяца в итоге получила с горе...  positive\n",
       "freq                                                    1     29291"
      ]
     },
     "execution_count": 8,
     "metadata": {},
     "output_type": "execute_result"
    }
   ],
   "source": [
    "df.describe() #freq - частота наиболее распространенного значения"
   ]
  },
  {
   "cell_type": "code",
   "execution_count": 9,
   "id": "african-combine",
   "metadata": {},
   "outputs": [
    {
     "data": {
      "text/plain": [
       "positive    29291\n",
       "negative    29218\n",
       "neautral    28812\n",
       "Name: sentiment, dtype: int64"
      ]
     },
     "execution_count": 9,
     "metadata": {},
     "output_type": "execute_result"
    }
   ],
   "source": [
    "df.sentiment.value_counts() #сколько каких в таблице. Было везде по 30к"
   ]
  },
  {
   "cell_type": "code",
   "execution_count": 10,
   "id": "robust-eating",
   "metadata": {},
   "outputs": [
    {
     "name": "stdout",
     "output_type": "stream",
     "text": [
      "<class 'pandas.core.frame.DataFrame'>\n",
      "Int64Index: 87321 entries, 0 to 89999\n",
      "Data columns (total 2 columns):\n",
      " #   Column     Non-Null Count  Dtype \n",
      "---  ------     --------------  ----- \n",
      " 0   review     87321 non-null  object\n",
      " 1   sentiment  87321 non-null  object\n",
      "dtypes: object(2)\n",
      "memory usage: 2.0+ MB\n"
     ]
    }
   ],
   "source": [
    "df.info() #Нет пустых значений"
   ]
  },
  {
   "cell_type": "code",
   "execution_count": 11,
   "id": "prepared-syndicate",
   "metadata": {},
   "outputs": [],
   "source": [
    "# разобьем общий датасет и сделаем в будущем классификацию на позитивный и негативный\n",
    "data_pos=df[df['sentiment'] == 'positive'][['review', 'sentiment']]\n",
    "data_neg = df[df['sentiment'] == 'negative'][['review', 'sentiment']]"
   ]
  },
  {
   "cell_type": "markdown",
   "id": "secondary-genre",
   "metadata": {},
   "source": [
    "# Удаление стоп-слов, токенизация, лемматизация"
   ]
  },
  {
   "cell_type": "code",
   "execution_count": 12,
   "id": "drawn-canon",
   "metadata": {},
   "outputs": [],
   "source": [
    "stop_words = stopwords.words(\"russian\")\n",
    "morph = MorphAnalyzer()"
   ]
  },
  {
   "cell_type": "code",
   "execution_count": 13,
   "id": "metallic-allen",
   "metadata": {},
   "outputs": [],
   "source": [
    "def get_clean_tokens(sentence):\n",
    "    #преобразование в одинаковый регистр\n",
    "    tokens = re.findall(\"\\w+\", sentence.lower()) #\\w+ - один или больше alphanumeric-символов, то же, что и [a-zA-Z0-9]+\n",
    "    tokens_no_stops = [word for word in tokens if (word not in punctuation) and (word not in stop_words)]\n",
    "    tokens_no_singles = [token for token in tokens_no_stops if len(token) > 4]\n",
    "    lemmatized_tokens = [morph.parse(token)[0].normal_form for token in tokens_no_singles]\n",
    "    return lemmatized_tokens"
   ]
  },
  {
   "cell_type": "code",
   "execution_count": 14,
   "id": "radio-wagner",
   "metadata": {},
   "outputs": [],
   "source": [
    "#Разбиение позитивных токенов\n",
    "pos_tok = [get_clean_tokens(sentence) for sentence in data_pos['review']]\n",
    "pos_tok_join = [' '.join(sent) for sent in pos_tok]"
   ]
  },
  {
   "cell_type": "code",
   "execution_count": 15,
   "id": "mineral-criticism",
   "metadata": {},
   "outputs": [],
   "source": [
    "#Негативных\n",
    "neg_tok = [get_clean_tokens(sentence) for sentence in data_neg['review']]\n",
    "neg_tok_join = [' '.join(sent) for sent in neg_tok]"
   ]
  },
  {
   "cell_type": "code",
   "execution_count": 172,
   "id": "painful-variance",
   "metadata": {},
   "outputs": [],
   "source": [
    "#Объединение\n",
    "data_full = pd.concat([data_pos, data_neg])"
   ]
  },
  {
   "cell_type": "markdown",
   "id": "ethical-instruction",
   "metadata": {},
   "source": [
    "# Векторизация текста Word2Vec"
   ]
  },
  {
   "cell_type": "code",
   "execution_count": 173,
   "id": "republican-worst",
   "metadata": {},
   "outputs": [
    {
     "data": {
      "text/html": [
       "<div>\n",
       "<style scoped>\n",
       "    .dataframe tbody tr th:only-of-type {\n",
       "        vertical-align: middle;\n",
       "    }\n",
       "\n",
       "    .dataframe tbody tr th {\n",
       "        vertical-align: top;\n",
       "    }\n",
       "\n",
       "    .dataframe thead th {\n",
       "        text-align: right;\n",
       "    }\n",
       "</style>\n",
       "<table border=\"1\" class=\"dataframe\">\n",
       "  <thead>\n",
       "    <tr style=\"text-align: right;\">\n",
       "      <th></th>\n",
       "      <th>review</th>\n",
       "      <th>sentiment</th>\n",
       "    </tr>\n",
       "  </thead>\n",
       "  <tbody>\n",
       "    <tr>\n",
       "      <th>60000</th>\n",
       "      <td>Все совпадает! К покупке рекомендую!</td>\n",
       "      <td>positive</td>\n",
       "    </tr>\n",
       "    <tr>\n",
       "      <th>60001</th>\n",
       "      <td>по размеру) качественные)</td>\n",
       "      <td>positive</td>\n",
       "    </tr>\n",
       "    <tr>\n",
       "      <th>60002</th>\n",
       "      <td>Прекрасная, качественая рубашка! Искала просту...</td>\n",
       "      <td>positive</td>\n",
       "    </tr>\n",
       "    <tr>\n",
       "      <th>60003</th>\n",
       "      <td>Пришло через 2 месяца. Очень долго, но пуловер...</td>\n",
       "      <td>positive</td>\n",
       "    </tr>\n",
       "    <tr>\n",
       "      <th>60004</th>\n",
       "      <td>Заказ дошел быстро. Соответствует описанию. Кр...</td>\n",
       "      <td>positive</td>\n",
       "    </tr>\n",
       "    <tr>\n",
       "      <th>60005</th>\n",
       "      <td>Приятная к телу,  L  на 42 свободно, так как х...</td>\n",
       "      <td>positive</td>\n",
       "    </tr>\n",
       "    <tr>\n",
       "      <th>60006</th>\n",
       "      <td>платье хорошего качества, нитки нигде не торча...</td>\n",
       "      <td>positive</td>\n",
       "    </tr>\n",
       "    <tr>\n",
       "      <th>60007</th>\n",
       "      <td>просто огонь!!! очень крутая шапка, толстая и ...</td>\n",
       "      <td>positive</td>\n",
       "    </tr>\n",
       "    <tr>\n",
       "      <th>60008</th>\n",
       "      <td>платье оставило двоякое впечатление,само оно с...</td>\n",
       "      <td>positive</td>\n",
       "    </tr>\n",
       "    <tr>\n",
       "      <th>60009</th>\n",
       "      <td>Кофта не подошла, очень короткая и в руках и д...</td>\n",
       "      <td>positive</td>\n",
       "    </tr>\n",
       "  </tbody>\n",
       "</table>\n",
       "</div>"
      ],
      "text/plain": [
       "                                                  review sentiment\n",
       "60000               Все совпадает! К покупке рекомендую!  positive\n",
       "60001                          по размеру) качественные)  positive\n",
       "60002  Прекрасная, качественая рубашка! Искала просту...  positive\n",
       "60003  Пришло через 2 месяца. Очень долго, но пуловер...  positive\n",
       "60004  Заказ дошел быстро. Соответствует описанию. Кр...  positive\n",
       "60005  Приятная к телу,  L  на 42 свободно, так как х...  positive\n",
       "60006  платье хорошего качества, нитки нигде не торча...  positive\n",
       "60007  просто огонь!!! очень крутая шапка, толстая и ...  positive\n",
       "60008  платье оставило двоякое впечатление,само оно с...  positive\n",
       "60009  Кофта не подошла, очень короткая и в руках и д...  positive"
      ]
     },
     "execution_count": 173,
     "metadata": {},
     "output_type": "execute_result"
    }
   ],
   "source": [
    "data_full.head(10)"
   ]
  },
  {
   "cell_type": "code",
   "execution_count": 18,
   "id": "passing-essex",
   "metadata": {},
   "outputs": [],
   "source": [
    "data_full['Preprocessed_texts'] = data_full.apply(lambda row: get_clean_tokens(row['review']), axis=1)"
   ]
  },
  {
   "cell_type": "code",
   "execution_count": 19,
   "id": "beneficial-illustration",
   "metadata": {},
   "outputs": [
    {
     "data": {
      "text/html": [
       "<div>\n",
       "<style scoped>\n",
       "    .dataframe tbody tr th:only-of-type {\n",
       "        vertical-align: middle;\n",
       "    }\n",
       "\n",
       "    .dataframe tbody tr th {\n",
       "        vertical-align: top;\n",
       "    }\n",
       "\n",
       "    .dataframe thead th {\n",
       "        text-align: right;\n",
       "    }\n",
       "</style>\n",
       "<table border=\"1\" class=\"dataframe\">\n",
       "  <thead>\n",
       "    <tr style=\"text-align: right;\">\n",
       "      <th></th>\n",
       "      <th>review</th>\n",
       "      <th>sentiment</th>\n",
       "      <th>Preprocessed_texts</th>\n",
       "    </tr>\n",
       "  </thead>\n",
       "  <tbody>\n",
       "    <tr>\n",
       "      <th>60000</th>\n",
       "      <td>Все совпадает! К покупке рекомендую!</td>\n",
       "      <td>positive</td>\n",
       "      <td>[совпадать, покупка, рекомендовать]</td>\n",
       "    </tr>\n",
       "    <tr>\n",
       "      <th>60001</th>\n",
       "      <td>по размеру) качественные)</td>\n",
       "      <td>positive</td>\n",
       "      <td>[размер, качественный]</td>\n",
       "    </tr>\n",
       "    <tr>\n",
       "      <th>60002</th>\n",
       "      <td>Прекрасная, качественая рубашка! Искала просту...</td>\n",
       "      <td>positive</td>\n",
       "      <td>[прекрасный, качественай, рубашка, искать, про...</td>\n",
       "    </tr>\n",
       "    <tr>\n",
       "      <th>60003</th>\n",
       "      <td>Пришло через 2 месяца. Очень долго, но пуловер...</td>\n",
       "      <td>positive</td>\n",
       "      <td>[прийти, месяц, очень, долго, пуловер, хороший...</td>\n",
       "    </tr>\n",
       "    <tr>\n",
       "      <th>60004</th>\n",
       "      <td>Заказ дошел быстро. Соответствует описанию. Кр...</td>\n",
       "      <td>positive</td>\n",
       "      <td>[заказ, дойти, быстро, соответствовать, описан...</td>\n",
       "    </tr>\n",
       "    <tr>\n",
       "      <th>60005</th>\n",
       "      <td>Приятная к телу,  L  на 42 свободно, так как х...</td>\n",
       "      <td>positive</td>\n",
       "      <td>[приятный, свободно, хотеть]</td>\n",
       "    </tr>\n",
       "    <tr>\n",
       "      <th>60006</th>\n",
       "      <td>платье хорошего качества, нитки нигде не торча...</td>\n",
       "      <td>positive</td>\n",
       "      <td>[платье, хороший, качество, нитка, нигде, торч...</td>\n",
       "    </tr>\n",
       "    <tr>\n",
       "      <th>60007</th>\n",
       "      <td>просто огонь!!! очень крутая шапка, толстая и ...</td>\n",
       "      <td>positive</td>\n",
       "      <td>[просто, огонь, очень, крутой, шапка, толстой,...</td>\n",
       "    </tr>\n",
       "    <tr>\n",
       "      <th>60008</th>\n",
       "      <td>платье оставило двоякое впечатление,само оно с...</td>\n",
       "      <td>positive</td>\n",
       "      <td>[платье, оставить, двоякий, впечатление, симпа...</td>\n",
       "    </tr>\n",
       "    <tr>\n",
       "      <th>60009</th>\n",
       "      <td>Кофта не подошла, очень короткая и в руках и д...</td>\n",
       "      <td>positive</td>\n",
       "      <td>[кофта, подойти, очень, короткий, рука, длинны...</td>\n",
       "    </tr>\n",
       "  </tbody>\n",
       "</table>\n",
       "</div>"
      ],
      "text/plain": [
       "                                                  review sentiment  \\\n",
       "60000               Все совпадает! К покупке рекомендую!  positive   \n",
       "60001                          по размеру) качественные)  positive   \n",
       "60002  Прекрасная, качественая рубашка! Искала просту...  positive   \n",
       "60003  Пришло через 2 месяца. Очень долго, но пуловер...  positive   \n",
       "60004  Заказ дошел быстро. Соответствует описанию. Кр...  positive   \n",
       "60005  Приятная к телу,  L  на 42 свободно, так как х...  positive   \n",
       "60006  платье хорошего качества, нитки нигде не торча...  positive   \n",
       "60007  просто огонь!!! очень крутая шапка, толстая и ...  positive   \n",
       "60008  платье оставило двоякое впечатление,само оно с...  positive   \n",
       "60009  Кофта не подошла, очень короткая и в руках и д...  positive   \n",
       "\n",
       "                                      Preprocessed_texts  \n",
       "60000                [совпадать, покупка, рекомендовать]  \n",
       "60001                             [размер, качественный]  \n",
       "60002  [прекрасный, качественай, рубашка, искать, про...  \n",
       "60003  [прийти, месяц, очень, долго, пуловер, хороший...  \n",
       "60004  [заказ, дойти, быстро, соответствовать, описан...  \n",
       "60005                       [приятный, свободно, хотеть]  \n",
       "60006  [платье, хороший, качество, нитка, нигде, торч...  \n",
       "60007  [просто, огонь, очень, крутой, шапка, толстой,...  \n",
       "60008  [платье, оставить, двоякий, впечатление, симпа...  \n",
       "60009  [кофта, подойти, очень, короткий, рука, длинны...  "
      ]
     },
     "execution_count": 19,
     "metadata": {},
     "output_type": "execute_result"
    }
   ],
   "source": [
    "data_full.head(10)"
   ]
  },
  {
   "cell_type": "code",
   "execution_count": 20,
   "id": "roman-ontario",
   "metadata": {},
   "outputs": [],
   "source": [
    "from gensim.models import Word2Vec"
   ]
  },
  {
   "cell_type": "code",
   "execution_count": 21,
   "id": "plain-underground",
   "metadata": {},
   "outputs": [],
   "source": [
    "model = Word2Vec(sentences=data_full['Preprocessed_texts'], \n",
    "                               min_count=5, \n",
    "                               vector_size=100)"
   ]
  },
  {
   "cell_type": "code",
   "execution_count": 22,
   "id": "skilled-crest",
   "metadata": {},
   "outputs": [
    {
     "data": {
      "text/plain": [
       "array([ 0.10646771, -0.21461429, -1.1646378 , -0.8988447 ,  0.06372738,\n",
       "        0.63265973, -0.61981136,  0.5556398 ,  0.520582  , -0.16672827,\n",
       "       -1.0388619 , -0.34440282, -0.7948092 ,  0.56162405, -0.39096493,\n",
       "        0.37631896,  0.31832027,  0.7178659 ,  0.41525674, -0.2389673 ,\n",
       "       -0.20334497,  0.4970843 , -0.81829214,  0.90541226, -0.76176226,\n",
       "        0.69675386, -0.23174393, -0.19571745, -0.3160934 ,  0.12680945,\n",
       "       -0.29070958,  0.61647964,  0.35552654, -0.36672172, -1.2252364 ,\n",
       "        0.13014157,  0.49328014,  0.48192468, -0.8562838 ,  0.15190671,\n",
       "        0.81927687, -0.26153144,  0.04490416, -0.5579957 ,  0.08361428,\n",
       "        0.6516333 , -0.37429297, -0.10132997,  0.5924949 ,  0.02552158,\n",
       "        0.5353518 , -0.672938  ,  0.6774272 , -0.42333   , -0.46273762,\n",
       "       -0.33624628,  0.969439  , -0.1279555 , -0.3281217 ,  0.88015765,\n",
       "        0.8679009 ,  0.05117419,  0.2651446 , -0.21226658,  0.2242977 ,\n",
       "        0.8402036 ,  0.05043481, -0.9195437 , -0.49842545,  0.8081619 ,\n",
       "       -0.37240458,  0.1577825 , -0.0277053 , -0.1620543 ,  1.2753898 ,\n",
       "       -0.44301304,  0.2983983 ,  0.29895383,  0.63240105, -1.6115745 ,\n",
       "       -0.7379146 ,  0.12219153, -1.0834622 ,  1.2660453 , -0.24347164,\n",
       "       -0.6788637 ,  0.21087717,  0.32686898,  0.31016594, -0.09362195,\n",
       "        1.5161583 ,  0.43634507,  0.40062094,  0.7554736 ,  0.06967546,\n",
       "       -0.878025  , -0.2595228 , -1.1032763 , -0.2782514 , -0.09989131],\n",
       "      dtype=float32)"
      ]
     },
     "execution_count": 22,
     "metadata": {},
     "output_type": "execute_result"
    }
   ],
   "source": [
    "model.wv['платье']"
   ]
  },
  {
   "cell_type": "code",
   "execution_count": 23,
   "id": "certified-somerset",
   "metadata": {},
   "outputs": [
    {
     "data": {
      "text/plain": [
       "[('отличный', 0.9047948718070984),\n",
       " ('неплохой', 0.8533983826637268),\n",
       " ('высота', 0.8014172911643982),\n",
       " ('прекрасный', 0.7884454727172852),\n",
       " ('плохой', 0.7717111110687256),\n",
       " ('достойный', 0.7683626413345337),\n",
       " ('классный', 0.7637544870376587),\n",
       " ('нормальный', 0.7614010572433472),\n",
       " ('супер', 0.7331649661064148),\n",
       " ('замечательный', 0.7320221066474915)]"
      ]
     },
     "execution_count": 23,
     "metadata": {},
     "output_type": "execute_result"
    }
   ],
   "source": [
    "model.wv.most_similar('хороший') #\"плохой\", потому что грамматически неправильно люди пишут \"не плохой\""
   ]
  },
  {
   "cell_type": "code",
   "execution_count": 24,
   "id": "accepted-valley",
   "metadata": {},
   "outputs": [
    {
     "data": {
      "text/plain": [
       "[('ужасный', 0.7983976006507874),\n",
       " ('отвратительный', 0.7967720627784729),\n",
       " ('хороший', 0.7717110514640808),\n",
       " ('низкий', 0.7644712924957275),\n",
       " ('неплохой', 0.7312021255493164),\n",
       " ('достойный', 0.6958544254302979),\n",
       " ('среднее', 0.6947188973426819),\n",
       " ('нормальный', 0.6576545238494873),\n",
       " ('троечка', 0.645455002784729),\n",
       " ('приличный', 0.6194963455200195)]"
      ]
     },
     "execution_count": 24,
     "metadata": {},
     "output_type": "execute_result"
    }
   ],
   "source": [
    "model.wv.most_similar('плохой') \n",
    "#Слово хороший там потому что в отзывах выделяют еще и положительные стороны товара, помимо отрицательного. \n",
    "#Например, \"К сожалению, заказ не отслеживается. Пропал... очень обидно... обратная связь с продавцом хорошая \tnegative\""
   ]
  },
  {
   "cell_type": "code",
   "execution_count": 31,
   "id": "collective-speech",
   "metadata": {},
   "outputs": [],
   "source": [
    "def sent_vec(sent):\n",
    "    vector_size = model.wv.vector_size\n",
    "    wv_res = np.zeros(vector_size)\n",
    "    ctr = 1\n",
    "    for w in sent:\n",
    "        if w in model.wv:\n",
    "            ctr += 1\n",
    "            wv_res += model.wv[w]\n",
    "    wv_res = wv_res/ctr\n",
    "    return wv_res"
   ]
  },
  {
   "cell_type": "code",
   "execution_count": 32,
   "id": "according-associate",
   "metadata": {},
   "outputs": [],
   "source": [
    "data_full['vec'] = data_full['Preprocessed_texts'].apply(sent_vec)"
   ]
  },
  {
   "cell_type": "code",
   "execution_count": 33,
   "id": "neural-fighter",
   "metadata": {},
   "outputs": [
    {
     "data": {
      "text/html": [
       "<div>\n",
       "<style scoped>\n",
       "    .dataframe tbody tr th:only-of-type {\n",
       "        vertical-align: middle;\n",
       "    }\n",
       "\n",
       "    .dataframe tbody tr th {\n",
       "        vertical-align: top;\n",
       "    }\n",
       "\n",
       "    .dataframe thead th {\n",
       "        text-align: right;\n",
       "    }\n",
       "</style>\n",
       "<table border=\"1\" class=\"dataframe\">\n",
       "  <thead>\n",
       "    <tr style=\"text-align: right;\">\n",
       "      <th></th>\n",
       "      <th>review</th>\n",
       "      <th>sentiment</th>\n",
       "      <th>Preprocessed_texts</th>\n",
       "      <th>vec</th>\n",
       "    </tr>\n",
       "  </thead>\n",
       "  <tbody>\n",
       "    <tr>\n",
       "      <th>60000</th>\n",
       "      <td>Все совпадает! К покупке рекомендую!</td>\n",
       "      <td>positive</td>\n",
       "      <td>[совпадать, покупка, рекомендовать]</td>\n",
       "      <td>[0.03651978820562363, 0.09263061359524727, -0....</td>\n",
       "    </tr>\n",
       "    <tr>\n",
       "      <th>60001</th>\n",
       "      <td>по размеру) качественные)</td>\n",
       "      <td>positive</td>\n",
       "      <td>[размер, качественный]</td>\n",
       "      <td>[-0.4697702080011368, 0.29086120923360187, 0.4...</td>\n",
       "    </tr>\n",
       "    <tr>\n",
       "      <th>60002</th>\n",
       "      <td>Прекрасная, качественая рубашка! Искала просту...</td>\n",
       "      <td>positive</td>\n",
       "      <td>[прекрасный, качественай, рубашка, искать, про...</td>\n",
       "      <td>[-0.40640390730307746, 0.4971312520792708, -0....</td>\n",
       "    </tr>\n",
       "    <tr>\n",
       "      <th>60003</th>\n",
       "      <td>Пришло через 2 месяца. Очень долго, но пуловер...</td>\n",
       "      <td>positive</td>\n",
       "      <td>[прийти, месяц, очень, долго, пуловер, хороший...</td>\n",
       "      <td>[-0.648510068655014, 0.2048019063141611, 0.031...</td>\n",
       "    </tr>\n",
       "    <tr>\n",
       "      <th>60004</th>\n",
       "      <td>Заказ дошел быстро. Соответствует описанию. Кр...</td>\n",
       "      <td>positive</td>\n",
       "      <td>[заказ, дойти, быстро, соответствовать, описан...</td>\n",
       "      <td>[-0.16213513978502966, -0.0064870691434903574,...</td>\n",
       "    </tr>\n",
       "    <tr>\n",
       "      <th>60005</th>\n",
       "      <td>Приятная к телу,  L  на 42 свободно, так как х...</td>\n",
       "      <td>positive</td>\n",
       "      <td>[приятный, свободно, хотеть]</td>\n",
       "      <td>[-0.6595089286565781, 0.26119846291840076, -0....</td>\n",
       "    </tr>\n",
       "    <tr>\n",
       "      <th>60006</th>\n",
       "      <td>платье хорошего качества, нитки нигде не торча...</td>\n",
       "      <td>positive</td>\n",
       "      <td>[платье, хороший, качество, нитка, нигде, торч...</td>\n",
       "      <td>[-0.3690585870295763, 0.2577522377949208, -0.2...</td>\n",
       "    </tr>\n",
       "    <tr>\n",
       "      <th>60007</th>\n",
       "      <td>просто огонь!!! очень крутая шапка, толстая и ...</td>\n",
       "      <td>positive</td>\n",
       "      <td>[просто, огонь, очень, крутой, шапка, толстой,...</td>\n",
       "      <td>[-0.5783362186585481, 0.3598443610736957, 0.24...</td>\n",
       "    </tr>\n",
       "    <tr>\n",
       "      <th>60008</th>\n",
       "      <td>платье оставило двоякое впечатление,само оно с...</td>\n",
       "      <td>positive</td>\n",
       "      <td>[платье, оставить, двоякий, впечатление, симпа...</td>\n",
       "      <td>[-0.5789234221336388, 0.2829572789016224, 0.25...</td>\n",
       "    </tr>\n",
       "    <tr>\n",
       "      <th>60009</th>\n",
       "      <td>Кофта не подошла, очень короткая и в руках и д...</td>\n",
       "      <td>positive</td>\n",
       "      <td>[кофта, подойти, очень, короткий, рука, длинны...</td>\n",
       "      <td>[-0.32096708193421364, 0.47224746613452834, -0...</td>\n",
       "    </tr>\n",
       "  </tbody>\n",
       "</table>\n",
       "</div>"
      ],
      "text/plain": [
       "                                                  review sentiment  \\\n",
       "60000               Все совпадает! К покупке рекомендую!  positive   \n",
       "60001                          по размеру) качественные)  positive   \n",
       "60002  Прекрасная, качественая рубашка! Искала просту...  positive   \n",
       "60003  Пришло через 2 месяца. Очень долго, но пуловер...  positive   \n",
       "60004  Заказ дошел быстро. Соответствует описанию. Кр...  positive   \n",
       "60005  Приятная к телу,  L  на 42 свободно, так как х...  positive   \n",
       "60006  платье хорошего качества, нитки нигде не торча...  positive   \n",
       "60007  просто огонь!!! очень крутая шапка, толстая и ...  positive   \n",
       "60008  платье оставило двоякое впечатление,само оно с...  positive   \n",
       "60009  Кофта не подошла, очень короткая и в руках и д...  positive   \n",
       "\n",
       "                                      Preprocessed_texts  \\\n",
       "60000                [совпадать, покупка, рекомендовать]   \n",
       "60001                             [размер, качественный]   \n",
       "60002  [прекрасный, качественай, рубашка, искать, про...   \n",
       "60003  [прийти, месяц, очень, долго, пуловер, хороший...   \n",
       "60004  [заказ, дойти, быстро, соответствовать, описан...   \n",
       "60005                       [приятный, свободно, хотеть]   \n",
       "60006  [платье, хороший, качество, нитка, нигде, торч...   \n",
       "60007  [просто, огонь, очень, крутой, шапка, толстой,...   \n",
       "60008  [платье, оставить, двоякий, впечатление, симпа...   \n",
       "60009  [кофта, подойти, очень, короткий, рука, длинны...   \n",
       "\n",
       "                                                     vec  \n",
       "60000  [0.03651978820562363, 0.09263061359524727, -0....  \n",
       "60001  [-0.4697702080011368, 0.29086120923360187, 0.4...  \n",
       "60002  [-0.40640390730307746, 0.4971312520792708, -0....  \n",
       "60003  [-0.648510068655014, 0.2048019063141611, 0.031...  \n",
       "60004  [-0.16213513978502966, -0.0064870691434903574,...  \n",
       "60005  [-0.6595089286565781, 0.26119846291840076, -0....  \n",
       "60006  [-0.3690585870295763, 0.2577522377949208, -0.2...  \n",
       "60007  [-0.5783362186585481, 0.3598443610736957, 0.24...  \n",
       "60008  [-0.5789234221336388, 0.2829572789016224, 0.25...  \n",
       "60009  [-0.32096708193421364, 0.47224746613452834, -0...  "
      ]
     },
     "execution_count": 33,
     "metadata": {},
     "output_type": "execute_result"
    }
   ],
   "source": [
    "data_full.head(10)"
   ]
  },
  {
   "cell_type": "markdown",
   "id": "foster-cradle",
   "metadata": {},
   "source": [
    "# Подготовка выборки"
   ]
  },
  {
   "cell_type": "code",
   "execution_count": 174,
   "id": "dangerous-meditation",
   "metadata": {},
   "outputs": [],
   "source": [
    "mapping = {'negative': 0, 'positive': 1}"
   ]
  },
  {
   "cell_type": "code",
   "execution_count": 176,
   "id": "circular-toner",
   "metadata": {},
   "outputs": [],
   "source": [
    "data_full.replace({'sentiment': mapping}, inplace=True)"
   ]
  },
  {
   "cell_type": "code",
   "execution_count": 177,
   "id": "democratic-helping",
   "metadata": {},
   "outputs": [
    {
     "data": {
      "text/html": [
       "<div>\n",
       "<style scoped>\n",
       "    .dataframe tbody tr th:only-of-type {\n",
       "        vertical-align: middle;\n",
       "    }\n",
       "\n",
       "    .dataframe tbody tr th {\n",
       "        vertical-align: top;\n",
       "    }\n",
       "\n",
       "    .dataframe thead th {\n",
       "        text-align: right;\n",
       "    }\n",
       "</style>\n",
       "<table border=\"1\" class=\"dataframe\">\n",
       "  <thead>\n",
       "    <tr style=\"text-align: right;\">\n",
       "      <th></th>\n",
       "      <th>review</th>\n",
       "      <th>sentiment</th>\n",
       "    </tr>\n",
       "  </thead>\n",
       "  <tbody>\n",
       "    <tr>\n",
       "      <th>60000</th>\n",
       "      <td>Все совпадает! К покупке рекомендую!</td>\n",
       "      <td>1</td>\n",
       "    </tr>\n",
       "    <tr>\n",
       "      <th>60001</th>\n",
       "      <td>по размеру) качественные)</td>\n",
       "      <td>1</td>\n",
       "    </tr>\n",
       "    <tr>\n",
       "      <th>60002</th>\n",
       "      <td>Прекрасная, качественая рубашка! Искала просту...</td>\n",
       "      <td>1</td>\n",
       "    </tr>\n",
       "    <tr>\n",
       "      <th>60003</th>\n",
       "      <td>Пришло через 2 месяца. Очень долго, но пуловер...</td>\n",
       "      <td>1</td>\n",
       "    </tr>\n",
       "    <tr>\n",
       "      <th>60004</th>\n",
       "      <td>Заказ дошел быстро. Соответствует описанию. Кр...</td>\n",
       "      <td>1</td>\n",
       "    </tr>\n",
       "    <tr>\n",
       "      <th>...</th>\n",
       "      <td>...</td>\n",
       "      <td>...</td>\n",
       "    </tr>\n",
       "    <tr>\n",
       "      <th>704</th>\n",
       "      <td>кофта в разрезе расходится по шву, очень обидно</td>\n",
       "      <td>0</td>\n",
       "    </tr>\n",
       "    <tr>\n",
       "      <th>705</th>\n",
       "      <td>Тысячи рублей толстовка не стоит. Размер заказ...</td>\n",
       "      <td>0</td>\n",
       "    </tr>\n",
       "    <tr>\n",
       "      <th>706</th>\n",
       "      <td>Заказ не получил. Продавец вернул только 2 дол...</td>\n",
       "      <td>0</td>\n",
       "    </tr>\n",
       "    <tr>\n",
       "      <th>707</th>\n",
       "      <td>На 2 размера меньше пришел , плохо прошит , по...</td>\n",
       "      <td>0</td>\n",
       "    </tr>\n",
       "    <tr>\n",
       "      <th>708</th>\n",
       "      <td>Кофта галимая синтетика! На мои 84-64-90 при р...</td>\n",
       "      <td>0</td>\n",
       "    </tr>\n",
       "  </tbody>\n",
       "</table>\n",
       "<p>30000 rows × 2 columns</p>\n",
       "</div>"
      ],
      "text/plain": [
       "                                                  review  sentiment\n",
       "60000               Все совпадает! К покупке рекомендую!          1\n",
       "60001                          по размеру) качественные)          1\n",
       "60002  Прекрасная, качественая рубашка! Искала просту...          1\n",
       "60003  Пришло через 2 месяца. Очень долго, но пуловер...          1\n",
       "60004  Заказ дошел быстро. Соответствует описанию. Кр...          1\n",
       "...                                                  ...        ...\n",
       "704      кофта в разрезе расходится по шву, очень обидно          0\n",
       "705    Тысячи рублей толстовка не стоит. Размер заказ...          0\n",
       "706    Заказ не получил. Продавец вернул только 2 дол...          0\n",
       "707    На 2 размера меньше пришел , плохо прошит , по...          0\n",
       "708    Кофта галимая синтетика! На мои 84-64-90 при р...          0\n",
       "\n",
       "[30000 rows x 2 columns]"
      ]
     },
     "execution_count": 177,
     "metadata": {},
     "output_type": "execute_result"
    }
   ],
   "source": [
    "data_full.head(30000)"
   ]
  },
  {
   "cell_type": "markdown",
   "id": "molecular-hawaiian",
   "metadata": {},
   "source": [
    "# Деление на тренировочную и тестовую выборку V2"
   ]
  },
  {
   "cell_type": "code",
   "execution_count": 84,
   "id": "starting-break",
   "metadata": {},
   "outputs": [],
   "source": [
    "X = data_full['vec'].to_list()\n",
    "y = data_full['sentiment'].to_list()"
   ]
  },
  {
   "cell_type": "code",
   "execution_count": 85,
   "id": "strong-portable",
   "metadata": {},
   "outputs": [],
   "source": [
    "from sklearn import metrics\n",
    "from sklearn.model_selection import train_test_split\n",
    "X_train, X_test, y_train, y_test = train_test_split(X, y, test_size=0.2,stratify=y)"
   ]
  },
  {
   "cell_type": "markdown",
   "id": "starting-wayne",
   "metadata": {},
   "source": [
    "# Обучение"
   ]
  },
  {
   "cell_type": "code",
   "execution_count": 121,
   "id": "emotional-oregon",
   "metadata": {},
   "outputs": [],
   "source": [
    "from sklearn.linear_model import LogisticRegression\n",
    "classifier = LogisticRegression()"
   ]
  },
  {
   "cell_type": "code",
   "execution_count": 122,
   "id": "numerical-abuse",
   "metadata": {},
   "outputs": [
    {
     "name": "stderr",
     "output_type": "stream",
     "text": [
      "C:\\Users\\dom\\miniconda3\\lib\\site-packages\\sklearn\\linear_model\\_logistic.py:763: ConvergenceWarning: lbfgs failed to converge (status=1):\n",
      "STOP: TOTAL NO. of ITERATIONS REACHED LIMIT.\n",
      "\n",
      "Increase the number of iterations (max_iter) or scale the data as shown in:\n",
      "    https://scikit-learn.org/stable/modules/preprocessing.html\n",
      "Please also refer to the documentation for alternative solver options:\n",
      "    https://scikit-learn.org/stable/modules/linear_model.html#logistic-regression\n",
      "  n_iter_i = _check_optimize_result(\n"
     ]
    },
    {
     "data": {
      "text/plain": [
       "LogisticRegression()"
      ]
     },
     "execution_count": 122,
     "metadata": {},
     "output_type": "execute_result"
    }
   ],
   "source": [
    "classifier.fit(X_train,y_train)"
   ]
  },
  {
   "cell_type": "code",
   "execution_count": 123,
   "id": "breathing-aquatic",
   "metadata": {},
   "outputs": [],
   "source": [
    "from sklearn import metrics\n",
    "predicted = classifier.predict(X_test)\n",
    "accuracy_score = metrics.accuracy_score(predicted, y_test)\n",
    "f1_score = metrics.f1_score(predicted, y_test)"
   ]
  },
  {
   "cell_type": "code",
   "execution_count": 124,
   "id": "centered-height",
   "metadata": {},
   "outputs": [
    {
     "name": "stdout",
     "output_type": "stream",
     "text": [
      "88.0%\n",
      "87.8%\n"
     ]
    }
   ],
   "source": [
    "print(str('{:.1%}'.format(accuracy_score)))\n",
    "print(str('{:.1%}'.format(f1_score)))"
   ]
  },
  {
   "cell_type": "markdown",
   "id": "understanding-wednesday",
   "metadata": {},
   "source": [
    "# Прогнозирование"
   ]
  },
  {
   "cell_type": "code",
   "execution_count": 166,
   "id": "cooperative-lighter",
   "metadata": {},
   "outputs": [],
   "source": [
    "text = \"\"\"Хочу поблагодарить Наталью Юрьевну за возможность заказа с 30% скидкой! Наконец я смогла заказать отличную блузу!Спасибо!Мечты сбываются!\"\"\""
   ]
  },
  {
   "cell_type": "code",
   "execution_count": 167,
   "id": "broke-snake",
   "metadata": {},
   "outputs": [],
   "source": [
    "pred = get_clean_tokens(text)"
   ]
  },
  {
   "cell_type": "code",
   "execution_count": 168,
   "id": "outstanding-stable",
   "metadata": {},
   "outputs": [],
   "source": [
    "predv = sent_vec(pred)"
   ]
  },
  {
   "cell_type": "code",
   "execution_count": 169,
   "id": "compound-twelve",
   "metadata": {},
   "outputs": [],
   "source": [
    "result = classifier.predict(predv.reshape(1, -1))"
   ]
  },
  {
   "cell_type": "code",
   "execution_count": 170,
   "id": "greater-fight",
   "metadata": {},
   "outputs": [
    {
     "data": {
      "text/plain": [
       "array([1])"
      ]
     },
     "execution_count": 170,
     "metadata": {},
     "output_type": "execute_result"
    }
   ],
   "source": [
    "result"
   ]
  }
 ],
 "metadata": {
  "kernelspec": {
   "display_name": "Python 3 (ipykernel)",
   "language": "python",
   "name": "python3"
  },
  "language_info": {
   "codemirror_mode": {
    "name": "ipython",
    "version": 3
   },
   "file_extension": ".py",
   "mimetype": "text/x-python",
   "name": "python",
   "nbconvert_exporter": "python",
   "pygments_lexer": "ipython3",
   "version": "3.10.9"
  }
 },
 "nbformat": 4,
 "nbformat_minor": 5
}
